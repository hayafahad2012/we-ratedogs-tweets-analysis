{
 "cells": [
  {
   "cell_type": "markdown",
   "metadata": {},
   "source": [
    "# Gather"
   ]
  },
  {
   "cell_type": "markdown",
   "metadata": {},
   "source": [
    "*I optained the required data to conduct the analysis from the `tweet-json.txt` file, the file was converted to a data frame and less relivant columns were excluded*"
   ]
  },
  {
   "cell_type": "markdown",
   "metadata": {},
   "source": [
    "# Assess "
   ]
  },
  {
   "cell_type": "markdown",
   "metadata": {},
   "source": [
    "I have used `.info()` and visual assessment using `.sample` and I have found the following issues:\n"
   ]
  },
  {
   "cell_type": "markdown",
   "metadata": {},
   "source": [
    "#### Quality issues\n",
    "1. In `twitter-archive-enhanced` some dogs names are missing or wrong:\n",
    "I've noticed that the wrong names are in lower case, thus I used a mask to filter out the names in lower case.\n",
    "2. missing values in `twitter-archive-enhanced.csv`:\n",
    "I've reviewd Twitter data dictionary and decided that the following columns should be excluded due to their insignificant for this analysis:\n",
    " `in_reply_to_status_id`\n",
    " `in_reply_to_user_id`\n",
    " `retweeted_status_id`\n",
    " `retweeted_status_user_id`\n",
    " `retweeted_status_timestamp`\n",
    "`in_reply_to_status_id ` and `in_reply_to_user_id` columns have only 78 non-nulls values which represents 30% of the total data: these colmns means that the tweet was a replay which is not much of a significant information to know, thus I think the best thing to do is to remove these two columns.\n",
    "\n",
    "3. Retweet related columns should be removed: \n",
    "4. values in `rating_denominator` needs to be all 10: from my understanting of Weratedog rating system the denominator should be 10 and I've noticed that some rows contains values less than 10. I'm awar that there is some values that are more than 10, I decided to make all the numnitore the same just for the sake of simplicity and conformity. \n",
    "\n",
    "5. Ids fileds should be objects: Id's should be treated like string not intger, I've used `astype` to change data type but when I used `.info` to test if dtype was change it returned the same type.\n",
    "6. Add new column `ratio` for ratings. since the ratings are highly divers depending on ration seems more wise than depending on `rating_denominator` alon. \n",
    "7. `timestamp` in `df1` and `df2` data type need to be datetime: Same issue as the previous the type did not really changed.\n",
    "8. Change `p1_dog` to `first_prediction` and so on. This make columns more descriptive: Although the names are longer in character which is less effeicnt when typing, but this will make more clear to understand.\n",
    "\n",
    "\n",
    "#### Tidiness issues \n",
    "1. Each variable forms a column, Thus dog life-stage should be one column\n",
    "2. Each observation forms a row and each type of observational unit forms a table, thus all tables should be into one table, since there are only one observational unit which is tweets.\n",
    "9. I added two more columns breed and confidnece because it would be more insightful to have the breed predction which has the highest confidence."
   ]
  },
  {
   "cell_type": "markdown",
   "metadata": {},
   "source": [
    "# References \n",
    "* https://knowledge.udacity.com/questions/150058\n",
    "* https://knowledge.udacity.com/questions/45245\n",
    "* https://developer.twitter.com/en/docs/tweets/data-dictionary/overview/tweet-object"
   ]
  },
  {
   "cell_type": "code",
   "execution_count": null,
   "metadata": {},
   "outputs": [],
   "source": []
  }
 ],
 "metadata": {
  "kernelspec": {
   "display_name": "Python 3",
   "language": "python",
   "name": "python3"
  },
  "language_info": {
   "codemirror_mode": {
    "name": "ipython",
    "version": 3
   },
   "file_extension": ".py",
   "mimetype": "text/x-python",
   "name": "python",
   "nbconvert_exporter": "python",
   "pygments_lexer": "ipython3",
   "version": "3.7.6"
  }
 },
 "nbformat": 4,
 "nbformat_minor": 4
}
