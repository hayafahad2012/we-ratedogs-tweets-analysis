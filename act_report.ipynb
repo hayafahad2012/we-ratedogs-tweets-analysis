{
 "cells": [
  {
   "cell_type": "code",
   "execution_count": 58,
   "metadata": {},
   "outputs": [],
   "source": [
    "import pandas as pd\n",
    "import numpy as np\n",
    "import seaborn as sb\n",
    "import matplotlib.pyplot as plt"
   ]
  },
  {
   "cell_type": "code",
   "execution_count": 5,
   "metadata": {},
   "outputs": [
    {
     "name": "stdout",
     "output_type": "stream",
     "text": [
      "<class 'pandas.core.frame.DataFrame'>\n",
      "RangeIndex: 2073 entries, 0 to 2072\n",
      "Data columns (total 26 columns):\n",
      " #   Column                  Non-Null Count  Dtype  \n",
      "---  ------                  --------------  -----  \n",
      " 0   tweet_id                2073 non-null   int64  \n",
      " 1   favorites               2073 non-null   int64  \n",
      " 2   retweets                2073 non-null   int64  \n",
      " 3   timestamp_x             2073 non-null   object \n",
      " 4   timestamp_y             2073 non-null   object \n",
      " 5   source                  2073 non-null   object \n",
      " 6   text                    2073 non-null   object \n",
      " 7   expanded_urls           2073 non-null   object \n",
      " 8   rating_numerator        2073 non-null   int64  \n",
      " 9   rating_denominator      2073 non-null   int64  \n",
      " 10  name                    1973 non-null   object \n",
      " 11  ratio                   2073 non-null   float64\n",
      " 12  stage                   320 non-null    object \n",
      " 13  jpg_url                 2073 non-null   object \n",
      " 14  img_num                 2073 non-null   int64  \n",
      " 15  prediction_1            2073 non-null   object \n",
      " 16  prediction_1_confident  2073 non-null   float64\n",
      " 17  is_prediction_1_dog     2073 non-null   int64  \n",
      " 18  prediction_2            2073 non-null   object \n",
      " 19  prediction_2_confident  2073 non-null   float64\n",
      " 20  is_prediction_2_dog     2073 non-null   int64  \n",
      " 21  prediction_3            2073 non-null   object \n",
      " 22  prediction_3_confident  2073 non-null   float64\n",
      " 23  is_prediction_3_dog     2073 non-null   int64  \n",
      " 24  breed                   2073 non-null   object \n",
      " 25  cofidence               2073 non-null   float64\n",
      "dtypes: float64(5), int64(9), object(12)\n",
      "memory usage: 324.0+ KB\n"
     ]
    }
   ],
   "source": [
    "df= pd.read_csv('dogs_tweets.csv')\n",
    "df.info()"
   ]
  },
  {
   "cell_type": "markdown",
   "metadata": {},
   "source": [
    "### Insight 1"
   ]
  },
  {
   "cell_type": "markdown",
   "metadata": {},
   "source": [
    "The breed that got the highest rating are clumbr, No wonder they are cute!"
   ]
  },
  {
   "cell_type": "markdown",
   "metadata": {},
   "source": [
    "<img src=\"Clumber.jpg\">"
   ]
  },
  {
   "cell_type": "code",
   "execution_count": 66,
   "metadata": {},
   "outputs": [
    {
     "data": {
      "text/html": [
       "<div>\n",
       "<style scoped>\n",
       "    .dataframe tbody tr th:only-of-type {\n",
       "        vertical-align: middle;\n",
       "    }\n",
       "\n",
       "    .dataframe tbody tr th {\n",
       "        vertical-align: top;\n",
       "    }\n",
       "\n",
       "    .dataframe thead th {\n",
       "        text-align: right;\n",
       "    }\n",
       "</style>\n",
       "<table border=\"1\" class=\"dataframe\">\n",
       "  <thead>\n",
       "    <tr style=\"text-align: right;\">\n",
       "      <th></th>\n",
       "      <th>breed</th>\n",
       "      <th>ratio</th>\n",
       "    </tr>\n",
       "  </thead>\n",
       "  <tbody>\n",
       "    <tr>\n",
       "      <th>82</th>\n",
       "      <td>clumber</td>\n",
       "      <td>2.700000</td>\n",
       "    </tr>\n",
       "    <tr>\n",
       "      <th>106</th>\n",
       "      <td>soft-coated_wheaten_terrier</td>\n",
       "      <td>2.080000</td>\n",
       "    </tr>\n",
       "    <tr>\n",
       "      <th>100</th>\n",
       "      <td>none</td>\n",
       "      <td>1.646440</td>\n",
       "    </tr>\n",
       "    <tr>\n",
       "      <th>68</th>\n",
       "      <td>West_Highland_white_terrier</td>\n",
       "      <td>1.468750</td>\n",
       "    </tr>\n",
       "    <tr>\n",
       "      <th>28</th>\n",
       "      <td>Great_Pyrenees</td>\n",
       "      <td>1.466667</td>\n",
       "    </tr>\n",
       "    <tr>\n",
       "      <th>...</th>\n",
       "      <td>...</td>\n",
       "      <td>...</td>\n",
       "    </tr>\n",
       "    <tr>\n",
       "      <th>41</th>\n",
       "      <td>Maltese_dog</td>\n",
       "      <td>0.931579</td>\n",
       "    </tr>\n",
       "    <tr>\n",
       "      <th>64</th>\n",
       "      <td>Tibetan_terrier</td>\n",
       "      <td>0.925000</td>\n",
       "    </tr>\n",
       "    <tr>\n",
       "      <th>56</th>\n",
       "      <td>Scotch_terrier</td>\n",
       "      <td>0.900000</td>\n",
       "    </tr>\n",
       "    <tr>\n",
       "      <th>65</th>\n",
       "      <td>Walker_hound</td>\n",
       "      <td>0.900000</td>\n",
       "    </tr>\n",
       "    <tr>\n",
       "      <th>36</th>\n",
       "      <td>Japanese_spaniel</td>\n",
       "      <td>0.500000</td>\n",
       "    </tr>\n",
       "  </tbody>\n",
       "</table>\n",
       "<p>114 rows × 2 columns</p>\n",
       "</div>"
      ],
      "text/plain": [
       "                           breed     ratio\n",
       "82                       clumber  2.700000\n",
       "106  soft-coated_wheaten_terrier  2.080000\n",
       "100                         none  1.646440\n",
       "68   West_Highland_white_terrier  1.468750\n",
       "28                Great_Pyrenees  1.466667\n",
       "..                           ...       ...\n",
       "41                   Maltese_dog  0.931579\n",
       "64               Tibetan_terrier  0.925000\n",
       "56                Scotch_terrier  0.900000\n",
       "65                  Walker_hound  0.900000\n",
       "36              Japanese_spaniel  0.500000\n",
       "\n",
       "[114 rows x 2 columns]"
      ]
     },
     "execution_count": 66,
     "metadata": {},
     "output_type": "execute_result"
    }
   ],
   "source": [
    "br=df.groupby('breed',as_index=False)['ratio'].mean()\n",
    "br.sort_values(by='ratio',ascending=False)"
   ]
  },
  {
   "cell_type": "markdown",
   "metadata": {},
   "source": [
    "### Insight 2\n",
    "The most common numerator for rating is 12"
   ]
  },
  {
   "cell_type": "code",
   "execution_count": 9,
   "metadata": {},
   "outputs": [
    {
     "data": {
      "text/plain": [
       "(array([ 0,  1,  2,  3,  4,  5,  6,  7,  8,  9, 10, 11, 12, 13, 14, 15, 16,\n",
       "        17, 18, 19, 20, 21, 22, 23, 24, 25, 26, 27, 28, 29, 30, 31, 32, 33,\n",
       "        34]),\n",
       " <a list of 35 Text xticklabel objects>)"
      ]
     },
     "execution_count": 9,
     "metadata": {},
     "output_type": "execute_result"
    },
    {
     "data": {
      "image/png": "[encoded data removed]",
      "text/plain": [
       "<Figure size 432x288 with 1 Axes>"
      ]
     },
     "metadata": {
      "needs_background": "light"
     },
     "output_type": "display_data"
    }
   ],
   "source": [
    "base_color = sb.color_palette()[0]\n",
    "sb.countplot(data = df, x = 'ratio', color = base_color)\n",
    "plt.xticks(rotation = 90)"
   ]
  },
  {
   "cell_type": "markdown",
   "metadata": {},
   "source": [
    "### Insight 3\n",
    "Most common name is Charlie"
   ]
  },
  {
   "cell_type": "code",
   "execution_count": 73,
   "metadata": {},
   "outputs": [
    {
     "data": {
      "text/plain": [
       "None         577\n",
       "Charlie       11\n",
       "Penny         10\n",
       "Cooper        10\n",
       "Tucker        10\n",
       "            ... \n",
       "Kathmandu      1\n",
       "Charl          1\n",
       "Carter         1\n",
       "Monster        1\n",
       "Edmund         1\n",
       "Name: name, Length: 914, dtype: int64"
      ]
     },
     "execution_count": 73,
     "metadata": {},
     "output_type": "execute_result"
    }
   ],
   "source": [
    "df['name'].value_counts().sort_values(ascending=False)"
   ]
  },
  {
   "cell_type": "markdown",
   "metadata": {},
   "source": [
    "### Insight 4 \n",
    "This more of a common sence, it's not a surprise that the more retweets a Tweet gets the more favorite it gets also."
   ]
  },
  {
   "cell_type": "code",
   "execution_count": 18,
   "metadata": {},
   "outputs": [
    {
     "data": {
      "text/plain": [
       "<matplotlib.axes._subplots.AxesSubplot at 0xef5db30>"
      ]
     },
     "execution_count": 18,
     "metadata": {},
     "output_type": "execute_result"
    },
    {
     "data": {
      "image/png": "[encoded data removed]",
      "text/plain": [
       "<Figure size 432x288 with 1 Axes>"
      ]
     },
     "metadata": {
      "needs_background": "light"
     },
     "output_type": "display_data"
    }
   ],
   "source": [
    "df.plot.scatter(x='retweets',y='favorites')"
   ]
  },
  {
   "cell_type": "code",
   "execution_count": null,
   "metadata": {},
   "outputs": [],
   "source": []
  }
 ],
 "metadata": {
  "kernelspec": {
   "display_name": "Python 3",
   "language": "python",
   "name": "python3"
  },
  "language_info": {
   "codemirror_mode": {
    "name": "ipython",
    "version": 3
   },
   "file_extension": ".py",
   "mimetype": "text/x-python",
   "name": "python",
   "nbconvert_exporter": "python",
   "pygments_lexer": "ipython3",
   "version": "3.7.6"
  }
 },
 "nbformat": 4,
 "nbformat_minor": 4
}
